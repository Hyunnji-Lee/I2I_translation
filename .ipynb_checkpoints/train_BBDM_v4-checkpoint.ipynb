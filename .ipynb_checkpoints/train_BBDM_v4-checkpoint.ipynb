{
 "cells": [
  {
   "cell_type": "code",
   "execution_count": 1,
   "metadata": {},
   "outputs": [
    {
     "name": "stdout",
     "output_type": "stream",
     "text": [
      "Filesystem      Size  Used Avail Use% Mounted on\r\n",
      "/dev/root        49G   39G  9.8G  80% /\r\n",
      "devtmpfs        1.8G     0  1.8G   0% /dev\r\n",
      "tmpfs           1.8G     0  1.8G   0% /dev/shm\r\n",
      "tmpfs           366M  1.2M  365M   1% /run\r\n",
      "tmpfs           5.0M     0  5.0M   0% /run/lock\r\n",
      "tmpfs           1.8G     0  1.8G   0% /sys/fs/cgroup\r\n",
      "/dev/loop0       45M   45M     0 100% /snap/snapd/23545\r\n",
      "/dev/loop2      390M  390M     0 100% /snap/google-cloud-cli/297\r\n",
      "/dev/loop3       64M   64M     0 100% /snap/core20/2434\r\n",
      "/dev/loop1       92M   92M     0 100% /snap/lxd/29619\r\n",
      "/dev/sda15      105M  6.1M   99M   6% /boot/efi\r\n",
      "tmpfs           366M   20K  366M   1% /run/user/124\r\n",
      "/dev/loop4      391M  391M     0 100% /snap/google-cloud-cli/301\r\n",
      "tmpfs           366M  4.0K  366M   1% /run/user/1002\r\n"
     ]
    }
   ],
   "source": [
    "!df -h"
   ]
  },
  {
   "cell_type": "code",
   "execution_count": 1,
   "metadata": {
    "scrolled": true
   },
   "outputs": [
    {
     "name": "stdout",
     "output_type": "stream",
     "text": [
      "save training results to results/CBCT2CT_translation_v4/LBBDM-f16/\n",
      "Working with z of shape (1, 8, 16, 16) = 2048 dimensions.\n",
      "/home/hyunji2004128/BBDM/model/VQGAN/vqgan.py:64: FutureWarning: You are using `torch.load` with `weights_only=False` (the current default value), which uses the default pickle module implicitly. It is possible to construct malicious pickle data which will execute arbitrary code during unpickling (See https://github.com/pytorch/pytorch/blob/main/SECURITY.md#untrusted-models for more details). In a future release, the default value for `weights_only` will be flipped to `True`. This limits the functions that could be executed during unpickling. Arbitrary objects will no longer be allowed to be loaded via this mode unless they are explicitly allowlisted by the user via `torch.serialization.add_safe_globals`. We recommend you start setting `weights_only=True` for any use case where you don't have full control of the loaded file. Please open an issue on GitHub for any issues related to this experimental feature.\n",
      "  sd = torch.load(path, map_location=\"cpu\")[\"state_dict\"]\n",
      "Restored from results/VQGAN/CelebAMaskHQ-f16.ckpt\n",
      "load vqgan from results/VQGAN/CelebAMaskHQ-f16.ckpt\n",
      "get parameters to optimize: UNet\n",
      "/home/hyunji2004128/miniconda3/lib/python3.12/site-packages/torch/optim/lr_scheduler.py:62: UserWarning: The verbose parameter is deprecated. Please use get_last_lr() to access the learning rate.\n",
      "  warnings.warn(\n",
      "Total Number of parameter: 327.70M\n",
      "Trainable Number of parameter: 258.11M\n",
      "load model LBBDM-f16 from results/CBCT2CT_translation_v4/LBBDM-f16/checkpoint/latest_model_12.pth\n",
      "/home/hyunji2004128/BBDM/runners/BaseRunner.py:115: FutureWarning: You are using `torch.load` with `weights_only=False` (the current default value), which uses the default pickle module implicitly. It is possible to construct malicious pickle data which will execute arbitrary code during unpickling (See https://github.com/pytorch/pytorch/blob/main/SECURITY.md#untrusted-models for more details). In a future release, the default value for `weights_only` will be flipped to `True`. This limits the functions that could be executed during unpickling. Arbitrary objects will no longer be allowed to be loaded via this mode unless they are explicitly allowlisted by the user via `torch.serialization.add_safe_globals`. We recommend you start setting `weights_only=True` for any use case where you don't have full control of the loaded file. Please open an issue on GitHub for any issues related to this experimental feature.\n",
      "  model_states = torch.load(self.config.model.model_load_path, map_location='cpu')\n",
      "BBDMRunner\n",
      "/home/hyunji2004128/miniconda3/lib/python3.12/site-packages/torch/utils/data/dataloader.py:617: UserWarning: This DataLoader will create 8 worker processes in total. Our suggested max number of worker in current system is 1, which is smaller than what this DataLoader is going to create. Please be aware that excessive worker creation might get DataLoader running slow or even freeze, lower the worker number to avoid potential slowness/freeze if necessary.\n",
      "  warnings.warn(\n",
      "start training LBBDM-f16 on CBCT2CT_translation_v4, 360 iters per epoch\n",
      "Epoch: [13 / 100] iter: 4320 loss: 0.0421:   0%|        | 0/360 [00:08<?, ?it/s]\n",
      "sampling loop time step:   0%|                          | 0/200 [00:00<?, ?it/s]\u001b[A\n",
      "sampling loop time step:   0%|                  | 1/200 [00:00<00:51,  3.89it/s]\u001b[A\n",
      "sampling loop time step:   2%|▍                 | 5/200 [00:00<00:12, 15.26it/s]\u001b[A\n",
      "sampling loop time step:   4%|▋                 | 8/200 [00:00<00:09, 19.37it/s]\u001b[A\n",
      "sampling loop time step:   6%|█                | 12/200 [00:00<00:08, 23.36it/s]\u001b[A\n",
      "sampling loop time step:   8%|█▎               | 16/200 [00:00<00:07, 25.65it/s]\u001b[A\n",
      "sampling loop time step:  10%|█▋               | 20/200 [00:00<00:06, 27.24it/s]\u001b[A\n",
      "sampling loop time step:  12%|█▉               | 23/200 [00:00<00:06, 27.89it/s]\u001b[A\n",
      "sampling loop time step:  13%|██▏              | 26/200 [00:01<00:06, 28.39it/s]\u001b[A\n",
      "sampling loop time step:  14%|██▍              | 29/200 [00:01<00:05, 28.73it/s]\u001b[A\n",
      "sampling loop time step:  16%|██▋              | 32/200 [00:01<00:05, 29.07it/s]\u001b[A\n",
      "sampling loop time step:  18%|██▉              | 35/200 [00:01<00:05, 29.18it/s]\u001b[A\n",
      "sampling loop time step:  19%|███▏             | 38/200 [00:01<00:05, 29.12it/s]\u001b[A\n",
      "sampling loop time step:  20%|███▍             | 41/200 [00:01<00:05, 29.26it/s]\u001b[A\n",
      "sampling loop time step:  22%|███▋             | 44/200 [00:01<00:05, 29.42it/s]\u001b[A\n",
      "sampling loop time step:  24%|███▉             | 47/200 [00:01<00:05, 29.49it/s]\u001b[A\n",
      "sampling loop time step:  25%|████▎            | 50/200 [00:01<00:05, 29.56it/s]\u001b[A\n",
      "sampling loop time step:  26%|████▌            | 53/200 [00:02<00:04, 29.64it/s]\u001b[A\n",
      "sampling loop time step:  28%|████▊            | 56/200 [00:02<00:04, 29.61it/s]\u001b[A\n",
      "sampling loop time step:  30%|█████            | 60/200 [00:02<00:04, 29.74it/s]\u001b[A\n",
      "sampling loop time step:  32%|█████▎           | 63/200 [00:02<00:04, 29.76it/s]\u001b[A\n",
      "sampling loop time step:  33%|█████▌           | 66/200 [00:02<00:04, 29.71it/s]\u001b[A\n",
      "sampling loop time step:  34%|█████▊           | 69/200 [00:02<00:04, 29.68it/s]\u001b[A\n",
      "sampling loop time step:  36%|██████           | 72/200 [00:02<00:04, 29.73it/s]\u001b[A\n",
      "sampling loop time step:  38%|██████▍          | 75/200 [00:02<00:04, 29.67it/s]\u001b[A\n",
      "sampling loop time step:  39%|██████▋          | 78/200 [00:02<00:04, 29.74it/s]\u001b[A\n",
      "sampling loop time step:  40%|██████▉          | 81/200 [00:02<00:03, 29.79it/s]\u001b[A\n",
      "sampling loop time step:  42%|███████▏         | 85/200 [00:03<00:03, 29.90it/s]\u001b[A\n",
      "sampling loop time step:  44%|███████▍         | 88/200 [00:03<00:03, 29.86it/s]\u001b[A\n",
      "sampling loop time step:  46%|███████▋         | 91/200 [00:03<00:03, 29.71it/s]\u001b[A\n",
      "sampling loop time step:  47%|███████▉         | 94/200 [00:03<00:03, 29.61it/s]\u001b[A\n",
      "sampling loop time step:  48%|████████▏        | 97/200 [00:03<00:03, 29.62it/s]\u001b[A\n",
      "sampling loop time step:  50%|████████        | 100/200 [00:03<00:03, 29.51it/s]\u001b[A\n",
      "sampling loop time step:  52%|████████▏       | 103/200 [00:03<00:03, 29.51it/s]\u001b[A\n",
      "sampling loop time step:  53%|████████▍       | 106/200 [00:03<00:03, 29.60it/s]\u001b[A\n",
      "sampling loop time step:  55%|████████▋       | 109/200 [00:03<00:03, 29.61it/s]\u001b[A\n",
      "sampling loop time step:  56%|████████▉       | 112/200 [00:03<00:03, 29.11it/s]\u001b[A\n",
      "sampling loop time step:  58%|█████████▎      | 116/200 [00:04<00:02, 29.59it/s]\u001b[A\n",
      "sampling loop time step:  60%|█████████▌      | 120/200 [00:04<00:02, 29.79it/s]\u001b[A\n",
      "sampling loop time step:  62%|█████████▊      | 123/200 [00:04<00:02, 29.83it/s]\u001b[A\n",
      "sampling loop time step:  63%|██████████      | 126/200 [00:04<00:02, 29.66it/s]\u001b[A\n",
      "sampling loop time step:  64%|██████████▎     | 129/200 [00:04<00:02, 29.61it/s]\u001b[A\n",
      "sampling loop time step:  66%|██████████▋     | 133/200 [00:04<00:02, 29.67it/s]\u001b[A\n",
      "sampling loop time step:  68%|██████████▉     | 136/200 [00:04<00:02, 29.71it/s]\u001b[A\n",
      "sampling loop time step:  70%|███████████     | 139/200 [00:04<00:02, 29.78it/s]\u001b[A\n",
      "sampling loop time step:  72%|███████████▍    | 143/200 [00:05<00:01, 29.83it/s]\u001b[A\n",
      "sampling loop time step:  73%|███████████▋    | 146/200 [00:05<00:01, 29.81it/s]\u001b[A\n",
      "sampling loop time step:  75%|████████████    | 150/200 [00:05<00:01, 29.92it/s]\u001b[A\n",
      "sampling loop time step:  76%|████████████▏   | 153/200 [00:05<00:01, 29.92it/s]\u001b[A\n",
      "sampling loop time step:  78%|████████████▍   | 156/200 [00:05<00:01, 29.85it/s]\u001b[A\n",
      "sampling loop time step:  80%|████████████▋   | 159/200 [00:05<00:01, 29.74it/s]\u001b[A\n",
      "sampling loop time step:  81%|████████████▉   | 162/200 [00:05<00:01, 29.68it/s]\u001b[A\n",
      "sampling loop time step:  82%|█████████████▏  | 165/200 [00:05<00:01, 29.65it/s]\u001b[A\n",
      "sampling loop time step:  84%|█████████████▍  | 168/200 [00:05<00:01, 29.62it/s]\u001b[A\n",
      "sampling loop time step:  86%|█████████████▋  | 171/200 [00:05<00:00, 29.68it/s]\u001b[A\n",
      "sampling loop time step:  87%|█████████████▉  | 174/200 [00:06<00:00, 29.61it/s]\u001b[A\n",
      "sampling loop time step:  88%|██████████████▏ | 177/200 [00:06<00:00, 29.71it/s]\u001b[A\n",
      "sampling loop time step:  90%|██████████████▍ | 180/200 [00:06<00:00, 29.67it/s]\u001b[A\n",
      "sampling loop time step:  92%|██████████████▋ | 183/200 [00:06<00:00, 29.56it/s]\u001b[A\n",
      "sampling loop time step:  93%|██████████████▉ | 186/200 [00:06<00:00, 29.62it/s]\u001b[A\n",
      "sampling loop time step:  94%|███████████████ | 189/200 [00:06<00:00, 29.56it/s]\u001b[A\n",
      "sampling loop time step:  96%|███████████████▎| 192/200 [00:06<00:00, 29.53it/s]\u001b[A\n",
      "sampling loop time step:  98%|███████████████▌| 195/200 [00:06<00:00, 29.53it/s]\u001b[A\n",
      "sampling loop time step: 100%|████████████████| 200/200 [00:06<00:00, 28.73it/s]\u001b[A\n",
      "\n",
      "sampling loop time step:   0%|                          | 0/200 [00:00<?, ?it/s]\u001b[A\n",
      "sampling loop time step:   0%|                  | 1/200 [00:00<00:24,  8.04it/s]\u001b[A\n",
      "sampling loop time step:   2%|▎                 | 4/200 [00:00<00:10, 19.35it/s]\u001b[A\n",
      "sampling loop time step:   4%|▋                 | 7/200 [00:00<00:08, 23.90it/s]\u001b[A\n",
      "sampling loop time step:   5%|▊                | 10/200 [00:00<00:07, 26.14it/s]\u001b[A\n",
      "sampling loop time step:   6%|█                | 13/200 [00:00<00:06, 27.43it/s]\u001b[A\n",
      "sampling loop time step:   8%|█▎               | 16/200 [00:00<00:06, 26.45it/s]\u001b[A\n",
      "sampling loop time step:  10%|█▋               | 20/200 [00:00<00:06, 28.80it/s]\u001b[A\n",
      "sampling loop time step:  12%|█▉               | 23/200 [00:00<00:06, 29.08it/s]\u001b[A\n",
      "sampling loop time step:  13%|██▏              | 26/200 [00:00<00:05, 29.13it/s]\u001b[A\n",
      "sampling loop time step:  14%|██▍              | 29/200 [00:01<00:05, 29.34it/s]\u001b[A\n",
      "sampling loop time step:  16%|██▋              | 32/200 [00:01<00:05, 29.44it/s]\u001b[A\n",
      "sampling loop time step:  18%|██▉              | 35/200 [00:01<00:05, 29.59it/s]\u001b[A\n",
      "sampling loop time step:  19%|███▏             | 38/200 [00:01<00:05, 29.66it/s]\u001b[A\n",
      "sampling loop time step:  20%|███▍             | 41/200 [00:01<00:05, 29.72it/s]\u001b[A\n",
      "sampling loop time step:  22%|███▋             | 44/200 [00:01<00:05, 29.74it/s]\u001b[A\n",
      "sampling loop time step:  24%|███▉             | 47/200 [00:01<00:05, 29.69it/s]\u001b[A\n",
      "sampling loop time step:  25%|████▎            | 50/200 [00:01<00:05, 29.67it/s]\u001b[A\n",
      "sampling loop time step:  26%|████▌            | 53/200 [00:01<00:04, 29.51it/s]\u001b[A\n",
      "sampling loop time step:  28%|████▊            | 56/200 [00:01<00:04, 29.63it/s]\u001b[A\n",
      "sampling loop time step:  30%|█████            | 59/200 [00:02<00:04, 29.56it/s]\u001b[A\n",
      "sampling loop time step:  31%|█████▎           | 62/200 [00:02<00:04, 29.58it/s]\u001b[A\n",
      "sampling loop time step:  33%|█████▌           | 66/200 [00:02<00:04, 29.86it/s]\u001b[A\n",
      "sampling loop time step:  34%|█████▊           | 69/200 [00:02<00:04, 29.79it/s]\u001b[A\n",
      "sampling loop time step:  36%|██████           | 72/200 [00:02<00:04, 29.70it/s]\u001b[A\n",
      "sampling loop time step:  38%|██████▍          | 75/200 [00:02<00:04, 29.62it/s]\u001b[A\n",
      "sampling loop time step:  39%|██████▋          | 78/200 [00:02<00:04, 29.73it/s]\u001b[A\n",
      "sampling loop time step:  40%|██████▉          | 81/200 [00:02<00:04, 29.64it/s]\u001b[A\n",
      "sampling loop time step:  42%|███████▏         | 84/200 [00:02<00:03, 29.59it/s]\u001b[A\n",
      "sampling loop time step:  44%|███████▍         | 87/200 [00:03<00:03, 29.64it/s]\u001b[A\n",
      "sampling loop time step:  45%|███████▋         | 90/200 [00:03<00:03, 29.35it/s]\u001b[A\n",
      "sampling loop time step:  46%|███████▉         | 93/200 [00:03<00:03, 29.54it/s]\u001b[A\n",
      "sampling loop time step:  48%|████████▏        | 96/200 [00:03<00:03, 29.50it/s]\u001b[A\n",
      "sampling loop time step:  50%|████████▍        | 99/200 [00:03<00:03, 29.42it/s]\u001b[A\n",
      "sampling loop time step:  51%|████████▏       | 102/200 [00:03<00:03, 29.45it/s]\u001b[A\n",
      "sampling loop time step:  52%|████████▍       | 105/200 [00:03<00:03, 29.48it/s]\u001b[A\n",
      "sampling loop time step:  54%|████████▋       | 108/200 [00:03<00:03, 29.48it/s]\u001b[A\n",
      "sampling loop time step:  56%|████████▉       | 111/200 [00:03<00:03, 29.48it/s]\u001b[A\n",
      "sampling loop time step:  57%|█████████       | 114/200 [00:03<00:02, 29.50it/s]\u001b[A\n",
      "sampling loop time step:  58%|█████████▎      | 117/200 [00:04<00:02, 29.48it/s]\u001b[A\n",
      "sampling loop time step:  60%|█████████▌      | 120/200 [00:04<00:02, 29.27it/s]\u001b[A\n",
      "sampling loop time step:  62%|█████████▊      | 123/200 [00:04<00:02, 29.47it/s]\u001b[A\n",
      "sampling loop time step:  63%|██████████      | 126/200 [00:04<00:02, 29.56it/s]\u001b[A\n",
      "sampling loop time step:  64%|██████████▎     | 129/200 [00:04<00:02, 29.55it/s]\u001b[A\n",
      "sampling loop time step:  66%|██████████▌     | 132/200 [00:04<00:02, 29.52it/s]\u001b[A\n",
      "sampling loop time step:  68%|██████████▊     | 135/200 [00:04<00:02, 29.45it/s]\u001b[A\n",
      "sampling loop time step:  69%|███████████     | 138/200 [00:04<00:02, 29.46it/s]\u001b[A\n",
      "sampling loop time step:  70%|███████████▎    | 141/200 [00:04<00:02, 29.25it/s]\u001b[A\n",
      "sampling loop time step:  72%|███████████▌    | 144/200 [00:04<00:01, 29.41it/s]\u001b[A\n",
      "sampling loop time step:  74%|███████████▊    | 147/200 [00:05<00:01, 29.30it/s]\u001b[A\n",
      "sampling loop time step:  75%|████████████    | 150/200 [00:05<00:01, 29.27it/s]\u001b[A\n",
      "sampling loop time step:  76%|████████████▏   | 153/200 [00:05<00:01, 29.43it/s]\u001b[A\n",
      "sampling loop time step:  78%|████████████▍   | 156/200 [00:05<00:01, 29.34it/s]\u001b[A\n",
      "sampling loop time step:  80%|████████████▋   | 159/200 [00:05<00:01, 29.45it/s]\u001b[A\n",
      "sampling loop time step:  81%|████████████▉   | 162/200 [00:05<00:01, 29.52it/s]\u001b[A\n",
      "sampling loop time step:  82%|█████████████▏  | 165/200 [00:05<00:01, 29.52it/s]\u001b[A\n",
      "sampling loop time step:  84%|█████████████▍  | 168/200 [00:05<00:01, 29.45it/s]\u001b[A\n",
      "sampling loop time step:  86%|█████████████▋  | 171/200 [00:05<00:00, 29.46it/s]\u001b[A\n",
      "sampling loop time step:  87%|█████████████▉  | 174/200 [00:05<00:00, 29.47it/s]\u001b[A\n",
      "sampling loop time step:  88%|██████████████▏ | 177/200 [00:06<00:00, 29.31it/s]\u001b[A\n",
      "sampling loop time step:  90%|██████████████▍ | 180/200 [00:06<00:00, 29.20it/s]\u001b[A\n",
      "sampling loop time step:  92%|██████████████▋ | 183/200 [00:06<00:00, 29.35it/s]\u001b[A\n",
      "sampling loop time step:  93%|██████████████▉ | 186/200 [00:06<00:00, 29.52it/s]\u001b[A\n",
      "sampling loop time step:  94%|███████████████ | 189/200 [00:06<00:00, 29.38it/s]\u001b[A\n",
      "sampling loop time step:  96%|███████████████▎| 192/200 [00:06<00:00, 29.44it/s]\u001b[A\n",
      "sampling loop time step:  98%|███████████████▌| 195/200 [00:06<00:00, 29.47it/s]\u001b[A\n",
      "sampling loop time step: 100%|████████████████| 200/200 [00:06<00:00, 29.10it/s]\u001b[A\n",
      "Epoch: [13 / 100] iter: 4446 loss: 0.0594:  35%|▎| 127/360 [05:43<09:58,  2.57s/^C\n"
     ]
    }
   ],
   "source": [
    "!python3 main.py --config configs/Template-LBBDM-f16-v4.yaml --train --sample_at_start --save_top --gpu_ids 0 \\\n",
    "--resume_model results/CBCT2CT_translation_v4/LBBDM-f16/checkpoint/latest_model_12.pth"
   ]
  },
  {
   "cell_type": "markdown",
   "metadata": {},
   "source": [
    "--> 로스가 중간에 갑자기 커져서 학습 중단함"
   ]
  },
  {
   "cell_type": "code",
   "execution_count": null,
   "metadata": {},
   "outputs": [],
   "source": []
  },
  {
   "cell_type": "code",
   "execution_count": 3,
   "metadata": {},
   "outputs": [],
   "source": [
    "!rm -rf ~/.local/share/Trash/*"
   ]
  },
  {
   "cell_type": "code",
   "execution_count": 4,
   "metadata": {},
   "outputs": [
    {
     "name": "stdout",
     "output_type": "stream",
     "text": [
      "Filesystem      Size  Used Avail Use% Mounted on\r\n",
      "/dev/root        49G   39G  9.8G  80% /\r\n",
      "devtmpfs        1.8G     0  1.8G   0% /dev\r\n",
      "tmpfs           1.8G     0  1.8G   0% /dev/shm\r\n",
      "tmpfs           366M  1.2M  365M   1% /run\r\n",
      "tmpfs           5.0M     0  5.0M   0% /run/lock\r\n",
      "tmpfs           1.8G     0  1.8G   0% /sys/fs/cgroup\r\n",
      "/dev/loop0       45M   45M     0 100% /snap/snapd/23545\r\n",
      "/dev/loop2      390M  390M     0 100% /snap/google-cloud-cli/297\r\n",
      "/dev/loop3       64M   64M     0 100% /snap/core20/2434\r\n",
      "/dev/loop1       92M   92M     0 100% /snap/lxd/29619\r\n",
      "/dev/sda15      105M  6.1M   99M   6% /boot/efi\r\n",
      "tmpfs           366M   20K  366M   1% /run/user/124\r\n",
      "/dev/loop4      391M  391M     0 100% /snap/google-cloud-cli/301\r\n",
      "tmpfs           366M  4.0K  366M   1% /run/user/1002\r\n"
     ]
    }
   ],
   "source": [
    "!df -h"
   ]
  },
  {
   "cell_type": "code",
   "execution_count": null,
   "metadata": {},
   "outputs": [],
   "source": []
  }
 ],
 "metadata": {
  "kernelspec": {
   "display_name": "Python (myenv)",
   "language": "python",
   "name": "myenv"
  },
  "language_info": {
   "codemirror_mode": {
    "name": "ipython",
    "version": 3
   },
   "file_extension": ".py",
   "mimetype": "text/x-python",
   "name": "python",
   "nbconvert_exporter": "python",
   "pygments_lexer": "ipython3",
   "version": "3.12.8"
  }
 },
 "nbformat": 4,
 "nbformat_minor": 4
}

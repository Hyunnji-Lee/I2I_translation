{
 "cells": [
  {
   "cell_type": "code",
   "execution_count": 1,
   "metadata": {},
   "outputs": [],
   "source": [
    "# === Metrics 계산 ===\n",
    "import numpy as np\n",
    "from evaluation.Evaluation_synthrad import ImageMetrics\n",
    "\n",
    "label_save_path = 'results/synthrad/LBBDM-f16/sample_to_eval/ground_truth'\n",
    "output_save_path = 'results/synthrad/LBBDM-f16/sample_to_eval/200' # output_0 ~output_4\n",
    "mask_save_path = 'results/synthrad/LBBDM-f16/sample_to_eval/mask' #만들어야 함 \n",
    "\n",
    "metrics = ImageMetrics()\n",
    "sample_num = 5 #number of testing sample"
   ]
  },
  {
   "cell_type": "code",
   "execution_count": 6,
   "metadata": {},
   "outputs": [
    {
     "name": "stdout",
     "output_type": "stream",
     "text": [
      "163 0\n",
      "65536\n",
      "179 0\n",
      "(256, 256)\n",
      "255\n",
      "(221, 237)\n",
      "(256, 256)\n"
     ]
    }
   ],
   "source": [
    "# shape, value check\n",
    "import os\n",
    "import PIL.Image as Image\n",
    "\n",
    "pred_files = sorted(os.listdir(output_save_path))\n",
    "pred_file = pred_files[0]\n",
    "pred_full_path = os.path.join(output_save_path, pred_file,'output_0.png')\n",
    "\n",
    "gt_files = sorted(os.listdir(label_save_path))\n",
    "gt_file = gt_files[0]\n",
    "gt_full_path = os.path.join(label_save_path, gt_file)\n",
    "\n",
    "pred = np.array(Image.open(pred_full_path).convert(\"L\"))\n",
    "print(np.max(pred), np.min(pred))\n",
    "print(pred.size)\n",
    "\n",
    "gt= np.array(Image.open(gt_full_path).convert(\"L\"))\n",
    "print(np.max(gt), np.min(gt))\n",
    "print(gt.shape)\n",
    "\n",
    "mask_files = sorted(os.listdir(mask_save_path))\n",
    "mask_file = mask_files[0]\n",
    "mask_full_path = os.path.join(mask_save_path, mask_file)\n",
    "mask = np.array(Image.open(mask_full_path))\n",
    "print(np.max(mask))\n",
    "print(mask.shape)\n",
    "\n",
    "from skimage.transform import resize\n",
    "mask_array = resize(mask, gt.shape)\n",
    "print(mask_array.shape)"
   ]
  },
  {
   "cell_type": "code",
   "execution_count": 10,
   "metadata": {},
   "outputs": [
    {
     "name": "stdout",
     "output_type": "stream",
     "text": [
      "179\n",
      "163\n",
      "1800.6901960784312\n",
      "1548.2039215686273\n"
     ]
    }
   ],
   "source": [
    "max_ct, min_ct = 3000, -1024\n",
    "\n",
    "gt_array = (gt/255)*(max_ct-min_ct) + min_ct\n",
    "pred_array = (pred/255)*(max_ct-min_ct) + min_ct\n",
    "\n",
    "print(np.max(gt))\n",
    "print(np.max(pred))\n",
    "print(np.max(gt_array))\n",
    "print(np.max(pred_array))"
   ]
  },
  {
   "cell_type": "code",
   "execution_count": 13,
   "metadata": {},
   "outputs": [
    {
     "name": "stdout",
     "output_type": "stream",
     "text": [
      "Filesystem      Size  Used Avail Use% Mounted on\r\n",
      "/dev/root        49G   35G   14G  73% /\r\n",
      "devtmpfs        1.8G     0  1.8G   0% /dev\r\n",
      "tmpfs           1.8G     0  1.8G   0% /dev/shm\r\n",
      "tmpfs           366M  1.2M  365M   1% /run\r\n",
      "tmpfs           5.0M     0  5.0M   0% /run/lock\r\n",
      "tmpfs           1.8G     0  1.8G   0% /sys/fs/cgroup\r\n",
      "/dev/loop0       45M   45M     0 100% /snap/snapd/23545\r\n",
      "/dev/loop2      390M  390M     0 100% /snap/google-cloud-cli/297\r\n",
      "/dev/loop3       64M   64M     0 100% /snap/core20/2434\r\n",
      "/dev/loop1       92M   92M     0 100% /snap/lxd/29619\r\n",
      "/dev/sda15      105M  6.1M   99M   6% /boot/efi\r\n",
      "tmpfs           366M   20K  366M   1% /run/user/124\r\n",
      "/dev/loop4      391M  391M     0 100% /snap/google-cloud-cli/301\r\n",
      "tmpfs           366M  4.0K  366M   1% /run/user/1002\r\n"
     ]
    }
   ],
   "source": [
    "!df -h"
   ]
  },
  {
   "cell_type": "code",
   "execution_count": 3,
   "metadata": {},
   "outputs": [
    {
     "name": "stdout",
     "output_type": "stream",
     "text": [
      "=== Evaluation Metrics ===\n",
      "mae: 16.1976\n",
      "ssim: 0.9822\n",
      "psnr: 43.9274\n",
      "cnr: 1.4387\n"
     ]
    }
   ],
   "source": [
    "gt_files = sorted(os.listdir(label_save_path))\n",
    "pred_files = sorted(os.listdir(output_save_path))\n",
    "mask_files = sorted(os.listdir(mask_save_path))\n",
    "\n",
    "scores = {'mae': [], 'ssim': [], 'psnr': [], 'cnr':[]}\n",
    "\n",
    "for gt_file, pred_file, mask_file in zip(gt_files, pred_files, mask_files):\n",
    "    gt_full_path = os.path.join(label_save_path, gt_file)\n",
    "    mask_full_path = os.path.join(mask_save_path, mask_file)\n",
    "    \n",
    "    pred_full_path = os.path.join(output_save_path, pred_file,'output_0.png')\n",
    "    score = metrics.score_patient(gt_full_path, pred_full_path, mask_full_path)\n",
    "\n",
    "    for key in scores:\n",
    "        scores[key].append(score[key])\n",
    "\n",
    "# print mean value\n",
    "print(\"=== Evaluation Metrics ===\")\n",
    "for metric, values in scores.items():\n",
    "    print(f'{metric}: {np.mean(values):.4f}')"
   ]
  },
  {
   "cell_type": "code",
   "execution_count": 3,
   "metadata": {},
   "outputs": [
    {
     "name": "stdout",
     "output_type": "stream",
     "text": [
      "=== Evaluation Metrics ===\n",
      "mae: 255.6045\n",
      "ssim: 0.6066\n",
      "psnr: 19.9651\n",
      "cnr: 1.4387\n"
     ]
    }
   ],
   "source": [
    "gt_files = sorted(os.listdir(label_save_path))\n",
    "pred_files = sorted(os.listdir(output_save_path))\n",
    "mask_files = sorted(os.listdir(mask_save_path))\n",
    "\n",
    "scores = {'mae': [], 'ssim': [], 'psnr': [], 'cnr':[]}\n",
    "\n",
    "for gt_file, pred_file, mask_file in zip(gt_files, pred_files, mask_files):\n",
    "    gt_full_path = os.path.join(label_save_path, gt_file)\n",
    "    mask_full_path = os.path.join(mask_save_path, mask_file)\n",
    "    \n",
    "    pred_full_path = os.path.join(output_save_path, pred_file,'output_0.png')\n",
    "    score = metrics.score_patient(gt_full_path, pred_full_path, mask_full_path)\n",
    "\n",
    "    for key in scores:\n",
    "        scores[key].append(score[key])\n",
    "\n",
    "# print mean value\n",
    "print(\"=== Evaluation Metrics ===\")\n",
    "for metric, values in scores.items():\n",
    "    print(f'{metric}: {np.mean(values):.4f}')"
   ]
  },
  {
   "cell_type": "code",
   "execution_count": 5,
   "metadata": {},
   "outputs": [
    {
     "name": "stdout",
     "output_type": "stream",
     "text": [
      "=== Evaluation Metrics ===\n",
      "mae: 372.1134\n",
      "ssim: 0.6871\n",
      "psnr: 20.6283\n",
      "cnr: 1.3931\n"
     ]
    }
   ],
   "source": [
    "input_save_path = 'results/synthrad/LBBDM-f16/sample_to_eval/condition'\n",
    "\n",
    "gt_files = sorted(os.listdir(label_save_path))\n",
    "input_files = sorted(os.listdir(input_save_path))\n",
    "mask_files = sorted(os.listdir(mask_save_path))\n",
    "\n",
    "scores = {'mae': [], 'ssim': [], 'psnr': [], 'cnr':[]}\n",
    "\n",
    "for gt_file, input_file, mask_file in zip(gt_files, input_files, mask_files):\n",
    "    gt_full_path = os.path.join(label_save_path, gt_file)\n",
    "    mask_full_path = os.path.join(mask_save_path, mask_file)\n",
    "    \n",
    "    input_full_path = os.path.join(input_save_path, input_file)\n",
    "    score = metrics.score_patient(gt_full_path, input_full_path, mask_full_path)\n",
    "\n",
    "    for key in scores:\n",
    "        scores[key].append(score[key])\n",
    "\n",
    "# print mean value\n",
    "print(\"=== Evaluation Metrics ===\")\n",
    "for metric, values in scores.items():\n",
    "    print(f'{metric}: {np.mean(values):.4f}')"
   ]
  },
  {
   "cell_type": "code",
   "execution_count": null,
   "metadata": {},
   "outputs": [],
   "source": []
  }
 ],
 "metadata": {
  "kernelspec": {
   "display_name": "Python (myenv)",
   "language": "python",
   "name": "myenv"
  },
  "language_info": {
   "codemirror_mode": {
    "name": "ipython",
    "version": 3
   },
   "file_extension": ".py",
   "mimetype": "text/x-python",
   "name": "python",
   "nbconvert_exporter": "python",
   "pygments_lexer": "ipython3",
   "version": "3.12.8"
  }
 },
 "nbformat": 4,
 "nbformat_minor": 4
}
